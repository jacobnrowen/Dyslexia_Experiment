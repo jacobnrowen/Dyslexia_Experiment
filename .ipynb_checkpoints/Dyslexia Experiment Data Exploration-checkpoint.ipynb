{
 "cells": [
  {
   "cell_type": "code",
   "execution_count": 1,
   "metadata": {},
   "outputs": [],
   "source": [
    "#import proper tools\n",
    "import numpy as np\n",
    "import pandas as pd\n",
    "import matplotlib.pyplot as plt\n",
    "\n",
    "#Access the csv files and remove the information that isn't necessary for this analysis\n",
    "anne_df = pd.read_csv('Anne.csv').drop(['Unnamed: 0','File One','File Two'], axis=1)\n",
    "sarah_df = pd.read_csv('Sarah.csv').drop(['Unnamed: 0','File One','File Two'], axis=1)"
   ]
  },
  {
   "cell_type": "code",
   "execution_count": 2,
   "metadata": {},
   "outputs": [],
   "source": [
    "#add_confus adds columns to the dataframes that represent what kind of correct or incorrect they are\n",
    "#in the style of a confusion matrix\n",
    "def add_confus(mat):\n",
    "    same = mat['Other Vowel'].isnull()\n",
    "    diff = np.logical_not(mat['Other Vowel'].isnull())\n",
    "    truth = mat['Correctness']\n",
    "    falth = np.logical_not(mat['Correctness'])\n",
    "    mix = lambda a,b: np.where(np.logical_and(a,b),True, False)\n",
    "    mat['True Same'] = mix(same,truth)\n",
    "    mat['False Same'] = mix(diff,falth)\n",
    "    mat['True Different'] = mix(diff,truth)\n",
    "    mat['False Different'] = mix(same,falth)\n",
    "\n",
    "add_confus(anne_df)\n",
    "add_confus(sarah_df)"
   ]
  },
  {
   "cell_type": "code",
   "execution_count": 3,
   "metadata": {},
   "outputs": [
    {
     "data": {
      "text/html": [
       "<div>\n",
       "<style scoped>\n",
       "    .dataframe tbody tr th:only-of-type {\n",
       "        vertical-align: middle;\n",
       "    }\n",
       "\n",
       "    .dataframe tbody tr th {\n",
       "        vertical-align: top;\n",
       "    }\n",
       "\n",
       "    .dataframe thead th {\n",
       "        text-align: right;\n",
       "    }\n",
       "</style>\n",
       "<table border=\"1\" class=\"dataframe\">\n",
       "  <thead>\n",
       "    <tr style=\"text-align: right;\">\n",
       "      <th></th>\n",
       "      <th>True Same</th>\n",
       "      <th>False Same</th>\n",
       "      <th>True Different</th>\n",
       "      <th>False Different</th>\n",
       "    </tr>\n",
       "    <tr>\n",
       "      <th>Test Type</th>\n",
       "      <th></th>\n",
       "      <th></th>\n",
       "      <th></th>\n",
       "      <th></th>\n",
       "    </tr>\n",
       "  </thead>\n",
       "  <tbody>\n",
       "    <tr>\n",
       "      <td>BareVowel</td>\n",
       "      <td>25</td>\n",
       "      <td>0</td>\n",
       "      <td>25</td>\n",
       "      <td>0</td>\n",
       "    </tr>\n",
       "    <tr>\n",
       "      <td>SameCons</td>\n",
       "      <td>32</td>\n",
       "      <td>5</td>\n",
       "      <td>12</td>\n",
       "      <td>1</td>\n",
       "    </tr>\n",
       "    <tr>\n",
       "      <td>DiffCons</td>\n",
       "      <td>23</td>\n",
       "      <td>7</td>\n",
       "      <td>16</td>\n",
       "      <td>4</td>\n",
       "    </tr>\n",
       "    <tr>\n",
       "      <td>Words</td>\n",
       "      <td>8</td>\n",
       "      <td>1</td>\n",
       "      <td>29</td>\n",
       "      <td>12</td>\n",
       "    </tr>\n",
       "  </tbody>\n",
       "</table>\n",
       "</div>"
      ],
      "text/plain": [
       "           True Same  False Same  True Different  False Different\n",
       "Test Type                                                        \n",
       "BareVowel         25           0              25                0\n",
       "SameCons          32           5              12                1\n",
       "DiffCons          23           7              16                4\n",
       "Words              8           1              29               12"
      ]
     },
     "execution_count": 3,
     "metadata": {},
     "output_type": "execute_result"
    }
   ],
   "source": [
    "t_types = [anne_df['Test Type'][i] for i in [1,26,51,76]]\n",
    "confus = list(anne_df.columns[-4:])\n",
    "def get_test_type_stats(mat):\n",
    "    data = dict([])\n",
    "    for t in t_types:\n",
    "        temp = dict([])\n",
    "        for c in confus:\n",
    "            temp[c] = len( (np.where(mat[mat['Test Type']==t][c]))[0])\n",
    "        data[t]=temp\n",
    "    result = pd.DataFrame(data).T\n",
    "    result.index.name = 'Test Type'\n",
    "    return result\n",
    "\n",
    "test_type_matrix = get_test_type_stats(anne_df)+get_test_type_stats(sarah_df)\n",
    "test_type_matrix"
   ]
  },
  {
   "cell_type": "code",
   "execution_count": 4,
   "metadata": {},
   "outputs": [
    {
     "data": {
      "text/plain": [
       "<matplotlib.axes._subplots.AxesSubplot at 0x2a9bda0e348>"
      ]
     },
     "execution_count": 4,
     "metadata": {},
     "output_type": "execute_result"
    },
    {
     "data": {
      "image/png": "[encoded data removed]",
      "text/plain": [
       "<Figure size 432x288 with 1 Axes>"
      ]
     },
     "metadata": {
      "needs_background": "light"
     },
     "output_type": "display_data"
    }
   ],
   "source": [
    "test_type_matrix.plot.bar(title='Results by Test Type')"
   ]
  },
  {
   "cell_type": "code",
   "execution_count": 5,
   "metadata": {},
   "outputs": [
    {
     "data": {
      "text/html": [
       "<div>\n",
       "<style scoped>\n",
       "    .dataframe tbody tr th:only-of-type {\n",
       "        vertical-align: middle;\n",
       "    }\n",
       "\n",
       "    .dataframe tbody tr th {\n",
       "        vertical-align: top;\n",
       "    }\n",
       "\n",
       "    .dataframe thead th {\n",
       "        text-align: right;\n",
       "    }\n",
       "</style>\n",
       "<table border=\"1\" class=\"dataframe\">\n",
       "  <thead>\n",
       "    <tr style=\"text-align: right;\">\n",
       "      <th></th>\n",
       "      <th>Times Confused</th>\n",
       "    </tr>\n",
       "    <tr>\n",
       "      <th>Vowels</th>\n",
       "      <th></th>\n",
       "    </tr>\n",
       "  </thead>\n",
       "  <tbody>\n",
       "    <tr>\n",
       "      <td>(ɛ, ɪ)</td>\n",
       "      <td>3</td>\n",
       "    </tr>\n",
       "    <tr>\n",
       "      <td>(æ, ɪ)</td>\n",
       "      <td>2</td>\n",
       "    </tr>\n",
       "    <tr>\n",
       "      <td>(a, eɪ)</td>\n",
       "      <td>1</td>\n",
       "    </tr>\n",
       "    <tr>\n",
       "      <td>(a, ʌ)</td>\n",
       "      <td>1</td>\n",
       "    </tr>\n",
       "    <tr>\n",
       "      <td>(eɪ, ɪ)</td>\n",
       "      <td>1</td>\n",
       "    </tr>\n",
       "    <tr>\n",
       "      <td>(oʊ, u)</td>\n",
       "      <td>1</td>\n",
       "    </tr>\n",
       "    <tr>\n",
       "      <td>(æ, ɛ)</td>\n",
       "      <td>1</td>\n",
       "    </tr>\n",
       "    <tr>\n",
       "      <td>(æ, ʌ)</td>\n",
       "      <td>1</td>\n",
       "    </tr>\n",
       "    <tr>\n",
       "      <td>(ɪ, ʊ)</td>\n",
       "      <td>1</td>\n",
       "    </tr>\n",
       "    <tr>\n",
       "      <td>(ʊ, ʌ)</td>\n",
       "      <td>1</td>\n",
       "    </tr>\n",
       "  </tbody>\n",
       "</table>\n",
       "</div>"
      ],
      "text/plain": [
       "         Times Confused\n",
       "Vowels                 \n",
       "(ɛ, ɪ)                3\n",
       "(æ, ɪ)                2\n",
       "(a, eɪ)               1\n",
       "(a, ʌ)                1\n",
       "(eɪ, ɪ)               1\n",
       "(oʊ, u)               1\n",
       "(æ, ɛ)                1\n",
       "(æ, ʌ)                1\n",
       "(ɪ, ʊ)                1\n",
       "(ʊ, ʌ)                1"
      ]
     },
     "execution_count": 5,
     "metadata": {},
     "output_type": "execute_result"
    }
   ],
   "source": [
    "#find_confused_vowels gets a dataframe with each pair of confused vowels and the frequency of that pair\n",
    "def find_confused_vowels(mat):\n",
    "    false_sames = mat[mat['False Same']==True]\n",
    "    pairs = list(zip(false_sames['Vowel'],false_sames['Other Vowel']))\n",
    "    for i in range(len(pairs)):\n",
    "        if pairs[i][0] > pairs[i][1]:\n",
    "            pairs[i] = (pairs[i][1],pairs[i][0])\n",
    "    counts = {}\n",
    "    for i in pairs:\n",
    "        counts[i] = counts.get(i, 0) + 1\n",
    "    return pd.DataFrame.from_dict(counts,orient='index')\n",
    "\n",
    "#Then we aggregate the confusions between each listener\n",
    "confused_vowels = find_confused_vowels(anne_df).append(find_confused_vowels(sarah_df))\n",
    "confused_vowels.reset_index(inplace=True)\n",
    "confused_vowels = confused_vowels.groupby(confused_vowels['index']).aggregate({0:'sum'})\n",
    "\n",
    "#And then it'd be nice to have it clearly labeled and sorted\n",
    "confused_vowels.index.name = \"Vowels\"\n",
    "confused_vowels.columns = [\"Times Confused\"]\n",
    "confused_vowels.sort_values(by='Times Confused',inplace=True,ascending=False)\n",
    "confused_vowels"
   ]
  },
  {
   "cell_type": "code",
   "execution_count": 6,
   "metadata": {},
   "outputs": [
    {
     "data": {
      "text/html": [
       "<div>\n",
       "<style scoped>\n",
       "    .dataframe tbody tr th:only-of-type {\n",
       "        vertical-align: middle;\n",
       "    }\n",
       "\n",
       "    .dataframe tbody tr th {\n",
       "        vertical-align: top;\n",
       "    }\n",
       "\n",
       "    .dataframe thead th {\n",
       "        text-align: right;\n",
       "    }\n",
       "</style>\n",
       "<table border=\"1\" class=\"dataframe\">\n",
       "  <thead>\n",
       "    <tr style=\"text-align: right;\">\n",
       "      <th></th>\n",
       "      <th>Times Confused</th>\n",
       "    </tr>\n",
       "    <tr>\n",
       "      <th>Vowels</th>\n",
       "      <th></th>\n",
       "    </tr>\n",
       "  </thead>\n",
       "  <tbody>\n",
       "    <tr>\n",
       "      <td>ʊ</td>\n",
       "      <td>4</td>\n",
       "    </tr>\n",
       "    <tr>\n",
       "      <td>ʌ</td>\n",
       "      <td>2</td>\n",
       "    </tr>\n",
       "    <tr>\n",
       "      <td>u</td>\n",
       "      <td>2</td>\n",
       "    </tr>\n",
       "    <tr>\n",
       "      <td>ɪ</td>\n",
       "      <td>2</td>\n",
       "    </tr>\n",
       "    <tr>\n",
       "      <td>ɛ</td>\n",
       "      <td>2</td>\n",
       "    </tr>\n",
       "    <tr>\n",
       "      <td>eɪ</td>\n",
       "      <td>2</td>\n",
       "    </tr>\n",
       "    <tr>\n",
       "      <td>a</td>\n",
       "      <td>2</td>\n",
       "    </tr>\n",
       "    <tr>\n",
       "      <td>i</td>\n",
       "      <td>1</td>\n",
       "    </tr>\n",
       "    <tr>\n",
       "      <td>oʊ</td>\n",
       "      <td>0</td>\n",
       "    </tr>\n",
       "    <tr>\n",
       "      <td>æ</td>\n",
       "      <td>0</td>\n",
       "    </tr>\n",
       "  </tbody>\n",
       "</table>\n",
       "</div>"
      ],
      "text/plain": [
       "        Times Confused\n",
       "Vowels                \n",
       "ʊ                    4\n",
       "ʌ                    2\n",
       "u                    2\n",
       "ɪ                    2\n",
       "ɛ                    2\n",
       "eɪ                   2\n",
       "a                    2\n",
       "i                    1\n",
       "oʊ                   0\n",
       "æ                    0"
      ]
     },
     "execution_count": 6,
     "metadata": {},
     "output_type": "execute_result"
    }
   ],
   "source": [
    "#get_false_diff_data returns a Series containing each vowel\n",
    "#and the number of times it was falsely marked as different from itself\n",
    "def get_false_diff_data(mat):\n",
    "    false_diffs = mat[mat['False Different']==True]\n",
    "    false_diffs = false_diffs['Vowel'].value_counts()\n",
    "    vowels = ['a','æ','eɪ','ɛ','i','ɪ','oʊ','u','ʊ','ʌ']\n",
    "    result = pd.Series([0 for i in range(len(vowels))],index=vowels)\n",
    "    result += false_diffs\n",
    "    return result.fillna(0).astype('int32')\n",
    "\n",
    "false_diff_data = get_false_diff_data(anne_df) + get_false_diff_data(sarah_df)\n",
    "\n",
    "#And then we sort it and label it\n",
    "false_diff_data.sort_values(ascending=False,inplace=True)\n",
    "false_diff_data.index.name = 'Vowels'\n",
    "false_diff_data = pd.DataFrame(false_diff_data)\n",
    "false_diff_data.columns = ['Times Confused']\n",
    "false_diff_data"
   ]
  },
  {
   "cell_type": "code",
   "execution_count": 7,
   "metadata": {},
   "outputs": [
    {
     "data": {
      "image/png": "[encoded data removed]",
      "text/plain": [
       "<Figure size 432x288 with 1 Axes>"
      ]
     },
     "metadata": {
      "needs_background": "light"
     },
     "output_type": "display_data"
    },
    {
     "data": {
      "image/png": "[encoded data removed]",
      "text/plain": [
       "<Figure size 432x288 with 1 Axes>"
      ]
     },
     "metadata": {
      "needs_background": "light"
     },
     "output_type": "display_data"
    }
   ],
   "source": [
    "axs = [None,None]\n",
    "axs[0] = false_diff_data.plot.bar(legend=False,title='Vowels Falsely Labeled Different')\n",
    "plt.xticks(rotation='horizontal')\n",
    "axs[1] = confused_vowels.plot.bar(legend=False,title='Vowels Falsely Labeled The Same')\n",
    "for i in axs:\n",
    "    i.set_ylabel('Times Confused')\n",
    "    i.plot()"
   ]
  }
 ],
 "metadata": {
  "kernelspec": {
   "display_name": "Python 3",
   "language": "python",
   "name": "python3"
  },
  "language_info": {
   "codemirror_mode": {
    "name": "ipython",
    "version": 3
   },
   "file_extension": ".py",
   "mimetype": "text/x-python",
   "name": "python",
   "nbconvert_exporter": "python",
   "pygments_lexer": "ipython3",
   "version": "3.7.4"
  }
 },
 "nbformat": 4,
 "nbformat_minor": 2
}
